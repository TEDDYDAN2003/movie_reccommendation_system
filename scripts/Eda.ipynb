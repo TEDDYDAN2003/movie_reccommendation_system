{
 "cells": [
  {
   "cell_type": "code",
   "execution_count": 3,
   "id": "b5e38315-670f-496c-805f-0f90ff64a127",
   "metadata": {},
   "outputs": [
    {
     "data": {
      "text/plain": [
       "(   movieId                               title  \\\n",
       " 0        1                    Toy Story (1995)   \n",
       " 1        2                      Jumanji (1995)   \n",
       " 2        3             Grumpier Old Men (1995)   \n",
       " 3        4            Waiting to Exhale (1995)   \n",
       " 4        5  Father of the Bride Part II (1995)   \n",
       " \n",
       "                                         genres  \n",
       " 0  Adventure|Animation|Children|Comedy|Fantasy  \n",
       " 1                   Adventure|Children|Fantasy  \n",
       " 2                               Comedy|Romance  \n",
       " 3                         Comedy|Drama|Romance  \n",
       " 4                                       Comedy  ,\n",
       "    userId  movieId  rating  timestamp\n",
       " 0       1        1     4.0  964982703\n",
       " 1       1        3     4.0  964981247\n",
       " 2       1        6     4.0  964982224\n",
       " 3       1       47     5.0  964983815\n",
       " 4       1       50     5.0  964982931)"
      ]
     },
     "execution_count": 3,
     "metadata": {},
     "output_type": "execute_result"
    }
   ],
   "source": [
    "#Connect to Your SQLite DB and Load Tables\n",
    "import os\n",
    "import sqlite3\n",
    "import pandas as pd\n",
    "\n",
    "# path to your DB\n",
    "DB_PATH = os.path.abspath(\"../data/movielens.db\")\n",
    "\n",
    "conn = sqlite3.connect(DB_PATH)\n",
    "\n",
    "movies = pd.read_sql_query(\"SELECT * FROM movies\", conn)\n",
    "ratings = pd.read_sql_query(\"SELECT * FROM ratings\", conn)\n",
    "conn.close()\n",
    "\n",
    "movies.head(), ratings.head()\n"
   ]
  },
  {
   "cell_type": "code",
   "execution_count": 5,
   "id": "289da85e-8eb0-487e-851c-aae5cbe0179f",
   "metadata": {},
   "outputs": [
    {
     "name": "stdout",
     "output_type": "stream",
     "text": [
      "<class 'pandas.core.frame.DataFrame'>\n",
      "RangeIndex: 9742 entries, 0 to 9741\n",
      "Data columns (total 3 columns):\n",
      " #   Column   Non-Null Count  Dtype \n",
      "---  ------   --------------  ----- \n",
      " 0   movieId  9742 non-null   int64 \n",
      " 1   title    9742 non-null   object\n",
      " 2   genres   9742 non-null   object\n",
      "dtypes: int64(1), object(2)\n",
      "memory usage: 228.5+ KB\n",
      "None\n",
      "<class 'pandas.core.frame.DataFrame'>\n",
      "RangeIndex: 100836 entries, 0 to 100835\n",
      "Data columns (total 4 columns):\n",
      " #   Column     Non-Null Count   Dtype  \n",
      "---  ------     --------------   -----  \n",
      " 0   userId     100836 non-null  int64  \n",
      " 1   movieId    100836 non-null  int64  \n",
      " 2   rating     100836 non-null  float64\n",
      " 3   timestamp  100836 non-null  int64  \n",
      "dtypes: float64(1), int64(3)\n",
      "memory usage: 3.1 MB\n",
      "None\n",
      "Movies missing:\n",
      " movieId    0\n",
      "title      0\n",
      "genres     0\n",
      "dtype: int64\n",
      "Ratings missing:\n",
      " userId       0\n",
      "movieId      0\n",
      "rating       0\n",
      "timestamp    0\n",
      "dtype: int64\n",
      "Duplicate movies: 0\n",
      "Duplicate ratings: 0\n",
      "Ratings summary:\n",
      " count    100836.000000\n",
      "mean          3.501557\n",
      "std           1.042529\n",
      "min           0.500000\n",
      "25%           3.000000\n",
      "50%           3.500000\n",
      "75%           4.000000\n",
      "max           5.000000\n",
      "Name: rating, dtype: float64\n"
     ]
    }
   ],
   "source": [
    "#Inspect and Clean Data\n",
    "print(movies.info())\n",
    "print(ratings.info())\n",
    "\n",
    "print(\"Movies missing:\\n\", movies.isnull().sum())\n",
    "print(\"Ratings missing:\\n\", ratings.isnull().sum())\n",
    "\n",
    "print(\"Duplicate movies:\", movies.duplicated().sum())\n",
    "print(\"Duplicate ratings:\", ratings.duplicated().sum())\n",
    "\n",
    "print(\"Ratings summary:\\n\", ratings['rating'].describe())\n"
   ]
  },
  {
   "cell_type": "code",
   "execution_count": null,
   "id": "ef20b8e3-32b2-4dbb-a791-ac8d505dcdb0",
   "metadata": {},
   "outputs": [],
   "source": [
    "#Exploring Genres\n",
    "movies['genres'] = movies['genres'].fillna('(no genres listed)')\n",
    "mg = movies[['movieId', 'genres']].copy()\n",
    "mg['genre'] = mg['genres'].str.split('|')\n",
    "mg = mg.explode('genre').drop(columns=['genres']).reset_index(drop=True)\n",
    "mg.head()\n"
   ]
  },
  {
   "cell_type": "code",
   "execution_count": 7,
   "id": "3bf28214-b853-4113-9fd3-a9d372107b58",
   "metadata": {},
   "outputs": [
    {
     "data": {
      "image/png": "[encoded data removed]",
      "text/plain": [
       "<Figure size 600x400 with 1 Axes>"
      ]
     },
     "metadata": {},
     "output_type": "display_data"
    },
    {
     "data": {
      "text/html": [
       "<div>\n",
       "<style scoped>\n",
       "    .dataframe tbody tr th:only-of-type {\n",
       "        vertical-align: middle;\n",
       "    }\n",
       "\n",
       "    .dataframe tbody tr th {\n",
       "        vertical-align: top;\n",
       "    }\n",
       "\n",
       "    .dataframe thead th {\n",
       "        text-align: right;\n",
       "    }\n",
       "</style>\n",
       "<table border=\"1\" class=\"dataframe\">\n",
       "  <thead>\n",
       "    <tr style=\"text-align: right;\">\n",
       "      <th></th>\n",
       "      <th>movieId</th>\n",
       "      <th>title</th>\n",
       "      <th>count</th>\n",
       "      <th>mean</th>\n",
       "    </tr>\n",
       "  </thead>\n",
       "  <tbody>\n",
       "    <tr>\n",
       "      <th>314</th>\n",
       "      <td>356</td>\n",
       "      <td>Forrest Gump (1994)</td>\n",
       "      <td>329</td>\n",
       "      <td>4.164134</td>\n",
       "    </tr>\n",
       "    <tr>\n",
       "      <th>277</th>\n",
       "      <td>318</td>\n",
       "      <td>Shawshank Redemption, The (1994)</td>\n",
       "      <td>317</td>\n",
       "      <td>4.429022</td>\n",
       "    </tr>\n",
       "    <tr>\n",
       "      <th>257</th>\n",
       "      <td>296</td>\n",
       "      <td>Pulp Fiction (1994)</td>\n",
       "      <td>307</td>\n",
       "      <td>4.197068</td>\n",
       "    </tr>\n",
       "    <tr>\n",
       "      <th>510</th>\n",
       "      <td>593</td>\n",
       "      <td>Silence of the Lambs, The (1991)</td>\n",
       "      <td>279</td>\n",
       "      <td>4.161290</td>\n",
       "    </tr>\n",
       "    <tr>\n",
       "      <th>1938</th>\n",
       "      <td>2571</td>\n",
       "      <td>Matrix, The (1999)</td>\n",
       "      <td>278</td>\n",
       "      <td>4.192446</td>\n",
       "    </tr>\n",
       "    <tr>\n",
       "      <th>224</th>\n",
       "      <td>260</td>\n",
       "      <td>Star Wars: Episode IV - A New Hope (1977)</td>\n",
       "      <td>251</td>\n",
       "      <td>4.231076</td>\n",
       "    </tr>\n",
       "    <tr>\n",
       "      <th>418</th>\n",
       "      <td>480</td>\n",
       "      <td>Jurassic Park (1993)</td>\n",
       "      <td>238</td>\n",
       "      <td>3.750000</td>\n",
       "    </tr>\n",
       "    <tr>\n",
       "      <th>97</th>\n",
       "      <td>110</td>\n",
       "      <td>Braveheart (1995)</td>\n",
       "      <td>237</td>\n",
       "      <td>4.031646</td>\n",
       "    </tr>\n",
       "    <tr>\n",
       "      <th>507</th>\n",
       "      <td>589</td>\n",
       "      <td>Terminator 2: Judgment Day (1991)</td>\n",
       "      <td>224</td>\n",
       "      <td>3.970982</td>\n",
       "    </tr>\n",
       "    <tr>\n",
       "      <th>461</th>\n",
       "      <td>527</td>\n",
       "      <td>Schindler's List (1993)</td>\n",
       "      <td>220</td>\n",
       "      <td>4.225000</td>\n",
       "    </tr>\n",
       "  </tbody>\n",
       "</table>\n",
       "</div>"
      ],
      "text/plain": [
       "      movieId                                      title  count      mean\n",
       "314       356                        Forrest Gump (1994)    329  4.164134\n",
       "277       318           Shawshank Redemption, The (1994)    317  4.429022\n",
       "257       296                        Pulp Fiction (1994)    307  4.197068\n",
       "510       593           Silence of the Lambs, The (1991)    279  4.161290\n",
       "1938     2571                         Matrix, The (1999)    278  4.192446\n",
       "224       260  Star Wars: Episode IV - A New Hope (1977)    251  4.231076\n",
       "418       480                       Jurassic Park (1993)    238  3.750000\n",
       "97        110                          Braveheart (1995)    237  4.031646\n",
       "507       589          Terminator 2: Judgment Day (1991)    224  3.970982\n",
       "461       527                    Schindler's List (1993)    220  4.225000"
      ]
     },
     "execution_count": 7,
     "metadata": {},
     "output_type": "execute_result"
    }
   ],
   "source": [
    "#Rating Distribution and Top Movies\n",
    "import matplotlib.pyplot as plt\n",
    "\n",
    "# Rating histogram\n",
    "plt.figure(figsize=(6,4))\n",
    "plt.hist(ratings['rating'], bins=10)\n",
    "plt.xlabel('Rating')\n",
    "plt.ylabel('Count')\n",
    "plt.title('Rating Distribution')\n",
    "plt.show()\n",
    "\n",
    "# Top 10 movies by number of ratings\n",
    "merged = ratings.merge(movies[['movieId','title']], on='movieId', how='left')\n",
    "top_counts = merged.groupby(['movieId','title'])['rating'].agg(['count','mean']).reset_index()\n",
    "top_counts = top_counts.sort_values('count', ascending=False).head(10)\n",
    "top_counts\n"
   ]
  },
  {
   "cell_type": "code",
   "execution_count": 9,
   "id": "e6aee3ed-7a29-4c33-bb51-ac760f7793a6",
   "metadata": {},
   "outputs": [
    {
     "ename": "NameError",
     "evalue": "name 'mg' is not defined",
     "output_type": "error",
     "traceback": [
      "\u001b[1;31m---------------------------------------------------------------------------\u001b[0m",
      "\u001b[1;31mNameError\u001b[0m                                 Traceback (most recent call last)",
      "Cell \u001b[1;32mIn[9], line 2\u001b[0m\n\u001b[0;32m      1\u001b[0m \u001b[38;5;66;03m#Genre-Level Analysis\u001b[39;00m\n\u001b[1;32m----> 2\u001b[0m ratings_genre \u001b[38;5;241m=\u001b[39m ratings\u001b[38;5;241m.\u001b[39mmerge(mg, on\u001b[38;5;241m=\u001b[39m\u001b[38;5;124m'\u001b[39m\u001b[38;5;124mmovieId\u001b[39m\u001b[38;5;124m'\u001b[39m, how\u001b[38;5;241m=\u001b[39m\u001b[38;5;124m'\u001b[39m\u001b[38;5;124mleft\u001b[39m\u001b[38;5;124m'\u001b[39m)\n\u001b[0;32m      3\u001b[0m genre_stats \u001b[38;5;241m=\u001b[39m ratings_genre\u001b[38;5;241m.\u001b[39mgroupby(\u001b[38;5;124m'\u001b[39m\u001b[38;5;124mgenre\u001b[39m\u001b[38;5;124m'\u001b[39m)[\u001b[38;5;124m'\u001b[39m\u001b[38;5;124mrating\u001b[39m\u001b[38;5;124m'\u001b[39m]\u001b[38;5;241m.\u001b[39magg([\u001b[38;5;124m'\u001b[39m\u001b[38;5;124mcount\u001b[39m\u001b[38;5;124m'\u001b[39m,\u001b[38;5;124m'\u001b[39m\u001b[38;5;124mmean\u001b[39m\u001b[38;5;124m'\u001b[39m])\u001b[38;5;241m.\u001b[39msort_values(\u001b[38;5;124m'\u001b[39m\u001b[38;5;124mcount\u001b[39m\u001b[38;5;124m'\u001b[39m, ascending\u001b[38;5;241m=\u001b[39m\u001b[38;5;28;01mFalse\u001b[39;00m)\n\u001b[0;32m      4\u001b[0m genre_stats\u001b[38;5;241m.\u001b[39mhead(\u001b[38;5;241m10\u001b[39m)\n",
      "\u001b[1;31mNameError\u001b[0m: name 'mg' is not defined"
     ]
    }
   ],
   "source": [
    "#Genre-Level Analysis\n",
    "ratings_genre = ratings.merge(mg, on='movieId', how='left')\n",
    "genre_stats = ratings_genre.groupby('genre')['rating'].agg(['count','mean']).sort_values('count', ascending=False)\n",
    "genre_stats.head(10)\n"
   ]
  },
  {
   "cell_type": "code",
   "execution_count": 11,
   "id": "6c3a90f9-aecf-400a-b141-69b1dc723740",
   "metadata": {},
   "outputs": [
    {
     "name": "stdout",
     "output_type": "stream",
     "text": [
      "Users: 610, Movies: 9724, Ratings: 100836, Density: 0.017000\n"
     ]
    }
   ],
   "source": [
    "#Sparsity Check\n",
    "n_users = ratings['userId'].nunique()\n",
    "n_movies = ratings['movieId'].nunique()\n",
    "n_ratings = ratings.shape[0]\n",
    "density = n_ratings / (n_users * n_movies)\n",
    "\n",
    "print(f\"Users: {n_users}, Movies: {n_movies}, Ratings: {n_ratings}, Density: {density:.6f}\")\n"
   ]
  },
  {
   "cell_type": "code",
   "execution_count": 13,
   "id": "3a038470-39e0-4252-9f7d-0fe4906ca5d1",
   "metadata": {},
   "outputs": [
    {
     "data": {
      "text/html": [
       "<div>\n",
       "<style scoped>\n",
       "    .dataframe tbody tr th:only-of-type {\n",
       "        vertical-align: middle;\n",
       "    }\n",
       "\n",
       "    .dataframe tbody tr th {\n",
       "        vertical-align: top;\n",
       "    }\n",
       "\n",
       "    .dataframe thead th {\n",
       "        text-align: right;\n",
       "    }\n",
       "</style>\n",
       "<table border=\"1\" class=\"dataframe\">\n",
       "  <thead>\n",
       "    <tr style=\"text-align: right;\">\n",
       "      <th>movieId</th>\n",
       "      <th>1</th>\n",
       "      <th>2</th>\n",
       "      <th>3</th>\n",
       "      <th>4</th>\n",
       "      <th>5</th>\n",
       "    </tr>\n",
       "    <tr>\n",
       "      <th>userId</th>\n",
       "      <th></th>\n",
       "      <th></th>\n",
       "      <th></th>\n",
       "      <th></th>\n",
       "      <th></th>\n",
       "    </tr>\n",
       "  </thead>\n",
       "  <tbody>\n",
       "    <tr>\n",
       "      <th>1</th>\n",
       "      <td>4.0</td>\n",
       "      <td>NaN</td>\n",
       "      <td>4.0</td>\n",
       "      <td>NaN</td>\n",
       "      <td>NaN</td>\n",
       "    </tr>\n",
       "    <tr>\n",
       "      <th>2</th>\n",
       "      <td>NaN</td>\n",
       "      <td>NaN</td>\n",
       "      <td>NaN</td>\n",
       "      <td>NaN</td>\n",
       "      <td>NaN</td>\n",
       "    </tr>\n",
       "    <tr>\n",
       "      <th>3</th>\n",
       "      <td>NaN</td>\n",
       "      <td>NaN</td>\n",
       "      <td>NaN</td>\n",
       "      <td>NaN</td>\n",
       "      <td>NaN</td>\n",
       "    </tr>\n",
       "    <tr>\n",
       "      <th>4</th>\n",
       "      <td>NaN</td>\n",
       "      <td>NaN</td>\n",
       "      <td>NaN</td>\n",
       "      <td>NaN</td>\n",
       "      <td>NaN</td>\n",
       "    </tr>\n",
       "    <tr>\n",
       "      <th>5</th>\n",
       "      <td>4.0</td>\n",
       "      <td>NaN</td>\n",
       "      <td>NaN</td>\n",
       "      <td>NaN</td>\n",
       "      <td>NaN</td>\n",
       "    </tr>\n",
       "  </tbody>\n",
       "</table>\n",
       "</div>"
      ],
      "text/plain": [
       "movieId    1   2    3   4   5\n",
       "userId                       \n",
       "1        4.0 NaN  4.0 NaN NaN\n",
       "2        NaN NaN  NaN NaN NaN\n",
       "3        NaN NaN  NaN NaN NaN\n",
       "4        NaN NaN  NaN NaN NaN\n",
       "5        4.0 NaN  NaN NaN NaN"
      ]
     },
     "execution_count": 13,
     "metadata": {},
     "output_type": "execute_result"
    }
   ],
   "source": [
    "#Create User-Item Matrix\n",
    "user_item = ratings.pivot(index='userId', columns='movieId', values='rating')\n",
    "user_item.iloc[:5, :5]  # preview\n"
   ]
  },
  {
   "cell_type": "code",
   "execution_count": 21,
   "id": "33a2cefb-4705-4ad2-a603-6644f6f516ad",
   "metadata": {},
   "outputs": [],
   "source": [
    "user_item.to_pickle(\"../data/processed/user_item_matrix.pkl\")\n"
   ]
  },
  {
   "cell_type": "code",
   "execution_count": 23,
   "id": "612d651f-b22c-4263-802d-81ffc2c0c9b8",
   "metadata": {},
   "outputs": [
    {
     "name": "stdout",
     "output_type": "stream",
     "text": [
      "Train size: (80668, 4)\n",
      "Test size: (20168, 4)\n"
     ]
    }
   ],
   "source": [
    "from sklearn.model_selection import train_test_split\n",
    "\n",
    "train_ratings, test_ratings = train_test_split(ratings, test_size=0.2, random_state=42)\n",
    "\n",
    "print(\"Train size:\", train_ratings.shape)\n",
    "print(\"Test size:\", test_ratings.shape)\n",
    "\n",
    "train_ratings.to_csv(\"../data/processed/train_ratings.csv\", index=False)\n",
    "test_ratings.to_csv(\"../data/processed/test_ratings.csv\", index=False)\n"
   ]
  },
  {
   "cell_type": "code",
   "execution_count": null,
   "id": "76d76c9a-f4f8-4941-9989-42d633c86d94",
   "metadata": {},
   "outputs": [],
   "source": []
  }
 ],
 "metadata": {
  "kernelspec": {
   "display_name": "Python [conda env:base] *",
   "language": "python",
   "name": "conda-base-py"
  },
  "language_info": {
   "codemirror_mode": {
    "name": "ipython",
    "version": 3
   },
   "file_extension": ".py",
   "mimetype": "text/x-python",
   "name": "python",
   "nbconvert_exporter": "python",
   "pygments_lexer": "ipython3",
   "version": "3.12.7"
  }
 },
 "nbformat": 4,
 "nbformat_minor": 5
}
